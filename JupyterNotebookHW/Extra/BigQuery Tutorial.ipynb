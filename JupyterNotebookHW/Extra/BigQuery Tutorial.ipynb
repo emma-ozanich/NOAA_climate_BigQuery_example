{
 "cells": [
  {
   "cell_type": "code",
   "execution_count": 1,
   "metadata": {},
   "outputs": [],
   "source": [
    "from google.cloud import bigquery\n",
    "client = bigquery.Client()\n",
    "import time\n",
    "import numpy as np"
   ]
  },
  {
   "cell_type": "code",
   "execution_count": 2,
   "metadata": {},
   "outputs": [
    {
     "name": "stdout",
     "output_type": "stream",
     "text": [
      "913.1110417842865\n",
      "929.3440699577332\n",
      "951.8781130313873\n",
      "967.5014729499817\n",
      "978.7142577171326\n",
      "994.4620079994202\n",
      "1033.981556892395\n",
      "1052.4765028953552\n",
      "1067.3635368347168\n",
      "1085.5518248081207\n",
      "1065.6902692317963\n",
      "1083.3989219665527\n",
      "1137.2720592021942\n",
      "1155.6644563674927\n",
      "1127.8437650203705\n",
      "1147.1840980052948\n",
      "1044.4941368103027\n",
      "1066.735995054245\n",
      "1189.7392420768738\n",
      "1209.713021993637\n",
      "1140.294755935669\n",
      "1158.139895915985\n"
     ]
    }
   ],
   "source": [
    "years = [2008,2009,2010,2011,2012,2013,2014,2015,2016,2017,2018]\n",
    "for y in years:\n",
    "    sql = \"\"\"\n",
    "    SELECT *\n",
    "    FROM `bigquery-public-data.noaa_gsod.gsod{0}`\n",
    "    \"\"\".format(y)\n",
    "\n",
    "    t0=time.time()\n",
    "    df = client.query(sql).to_dataframe()\n",
    "    print(time.time()-t0)\n",
    "    df.to_pickle('noaa_gsod.gsod' + str(y))\n",
    "    print(time.time()-t0)"
   ]
  },
  {
   "cell_type": "code",
   "execution_count": 75,
   "metadata": {},
   "outputs": [
    {
     "name": "stdout",
     "output_type": "stream",
     "text": [
      "4.616093158721924\n",
      "   nrows\n",
      "0  29774\n"
     ]
    }
   ],
   "source": [
    "# Check file length\n",
    "years = [2008]\n",
    "for y in years:\n",
    "    sql = \"\"\"\n",
    "    SELECT\n",
    "        count(*) as nrows\n",
    "    FROM `bigquery-public-data.noaa_gsod.gsod{0}`\n",
    "    \"\"\".format(y)\n",
    "\n",
    "    t0=time.time()\n",
    "    df = client.query(sql).to_dataframe()\n",
    "print(df)"
   ]
  },
  {
   "cell_type": "code",
   "execution_count": null,
   "metadata": {},
   "outputs": [],
   "source": []
  }
 ],
 "metadata": {
  "kernelspec": {
   "display_name": "Python 3",
   "language": "python",
   "name": "python3"
  },
  "language_info": {
   "codemirror_mode": {
    "name": "ipython",
    "version": 3
   },
   "file_extension": ".py",
   "mimetype": "text/x-python",
   "name": "python",
   "nbconvert_exporter": "python",
   "pygments_lexer": "ipython3",
   "version": "3.6.8"
  }
 },
 "nbformat": 4,
 "nbformat_minor": 2
}
